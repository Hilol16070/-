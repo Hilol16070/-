{
  "cells": [
    {
      "cell_type": "markdown",
      "metadata": {
        "id": "view-in-github",
        "colab_type": "text"
      },
      "source": [
        "<a href=\"https://colab.research.google.com/github/Hilol16070/-/blob/main/laba_10.ipynb\" target=\"_parent\"><img src=\"https://colab.research.google.com/assets/colab-badge.svg\" alt=\"Open In Colab\"/></a>"
      ]
    },
    {
      "cell_type": "markdown",
      "metadata": {
        "id": "pONP69bQ0aTn"
      },
      "source": [
        "# ПРАКТИЧЕСКАЯ РАБОТА 10. ВИЗУАЛИЗАЦИЯ ДАННЫХ\n",
        "\n",
        "Давлатов Хилол Илхомджонович\n",
        "ПИН-б-о-22-1 09.03.03 Прикладная информатика\n",
        "\n",
        "Цели и задачи\n",
        "Цель лабораторной работы: изучение программных средств для\n",
        "визуализации наборов данных.\n",
        "Основные задачи:\n",
        "– установка и настройка matplotlib, seaborn;\n",
        "–изучение основных типов графиков библиотеки matplotlib;\n",
        "–изучение основных типов графиков библиотеки seaborn;\n",
        "– получение навыков анализа данных по визуальным представлениям\n",
        "данных."
      ]
    },
    {
      "cell_type": "code",
      "execution_count": null,
      "metadata": {
        "id": "0C2bZZGO0aTp"
      },
      "outputs": [],
      "source": [
        "import numpy as np\n",
        "import pandas as pd\n",
        "from matplotlib import pyplot as plt\n",
        "import seaborn as sns\n"
      ]
    },
    {
      "cell_type": "code",
      "execution_count": null,
      "metadata": {
        "id": "wrqEOAEf0aTq",
        "outputId": "3f578deb-de62-4b84-a97f-267553dc627a"
      },
      "outputs": [
        {
          "data": {
            "text/html": [
              "<div>\n",
              "<style scoped>\n",
              "    .dataframe tbody tr th:only-of-type {\n",
              "        vertical-align: middle;\n",
              "    }\n",
              "\n",
              "    .dataframe tbody tr th {\n",
              "        vertical-align: top;\n",
              "    }\n",
              "\n",
              "    .dataframe thead th {\n",
              "        text-align: right;\n",
              "    }\n",
              "</style>\n",
              "<table border=\"1\" class=\"dataframe\">\n",
              "  <thead>\n",
              "    <tr style=\"text-align: right;\">\n",
              "      <th></th>\n",
              "      <th>animal name</th>\n",
              "      <th>hair</th>\n",
              "      <th>feathers</th>\n",
              "      <th>eggs</th>\n",
              "      <th>milk</th>\n",
              "      <th>airborne</th>\n",
              "      <th>aquatic</th>\n",
              "      <th>predator</th>\n",
              "      <th>toothed</th>\n",
              "      <th>backbone</th>\n",
              "      <th>breathes</th>\n",
              "      <th>venomous</th>\n",
              "      <th>fins</th>\n",
              "      <th>legs</th>\n",
              "      <th>tail</th>\n",
              "      <th>domestic</th>\n",
              "      <th>catsize</th>\n",
              "      <th>type</th>\n",
              "    </tr>\n",
              "  </thead>\n",
              "  <tbody>\n",
              "    <tr>\n",
              "      <th>0</th>\n",
              "      <td>aardvark</td>\n",
              "      <td>1</td>\n",
              "      <td>0</td>\n",
              "      <td>0</td>\n",
              "      <td>1</td>\n",
              "      <td>0</td>\n",
              "      <td>0</td>\n",
              "      <td>1</td>\n",
              "      <td>1</td>\n",
              "      <td>1</td>\n",
              "      <td>1</td>\n",
              "      <td>0</td>\n",
              "      <td>0</td>\n",
              "      <td>4</td>\n",
              "      <td>0</td>\n",
              "      <td>0</td>\n",
              "      <td>1</td>\n",
              "      <td>1</td>\n",
              "    </tr>\n",
              "    <tr>\n",
              "      <th>1</th>\n",
              "      <td>antelope</td>\n",
              "      <td>1</td>\n",
              "      <td>0</td>\n",
              "      <td>0</td>\n",
              "      <td>1</td>\n",
              "      <td>0</td>\n",
              "      <td>0</td>\n",
              "      <td>0</td>\n",
              "      <td>1</td>\n",
              "      <td>1</td>\n",
              "      <td>1</td>\n",
              "      <td>0</td>\n",
              "      <td>0</td>\n",
              "      <td>4</td>\n",
              "      <td>1</td>\n",
              "      <td>0</td>\n",
              "      <td>1</td>\n",
              "      <td>1</td>\n",
              "    </tr>\n",
              "    <tr>\n",
              "      <th>2</th>\n",
              "      <td>bass</td>\n",
              "      <td>0</td>\n",
              "      <td>0</td>\n",
              "      <td>1</td>\n",
              "      <td>0</td>\n",
              "      <td>0</td>\n",
              "      <td>1</td>\n",
              "      <td>1</td>\n",
              "      <td>1</td>\n",
              "      <td>1</td>\n",
              "      <td>0</td>\n",
              "      <td>0</td>\n",
              "      <td>1</td>\n",
              "      <td>0</td>\n",
              "      <td>1</td>\n",
              "      <td>0</td>\n",
              "      <td>0</td>\n",
              "      <td>4</td>\n",
              "    </tr>\n",
              "    <tr>\n",
              "      <th>3</th>\n",
              "      <td>bear</td>\n",
              "      <td>1</td>\n",
              "      <td>0</td>\n",
              "      <td>0</td>\n",
              "      <td>1</td>\n",
              "      <td>0</td>\n",
              "      <td>0</td>\n",
              "      <td>1</td>\n",
              "      <td>1</td>\n",
              "      <td>1</td>\n",
              "      <td>1</td>\n",
              "      <td>0</td>\n",
              "      <td>0</td>\n",
              "      <td>4</td>\n",
              "      <td>0</td>\n",
              "      <td>0</td>\n",
              "      <td>1</td>\n",
              "      <td>1</td>\n",
              "    </tr>\n",
              "    <tr>\n",
              "      <th>4</th>\n",
              "      <td>boar</td>\n",
              "      <td>1</td>\n",
              "      <td>0</td>\n",
              "      <td>0</td>\n",
              "      <td>1</td>\n",
              "      <td>0</td>\n",
              "      <td>0</td>\n",
              "      <td>1</td>\n",
              "      <td>1</td>\n",
              "      <td>1</td>\n",
              "      <td>1</td>\n",
              "      <td>0</td>\n",
              "      <td>0</td>\n",
              "      <td>4</td>\n",
              "      <td>1</td>\n",
              "      <td>0</td>\n",
              "      <td>1</td>\n",
              "      <td>1</td>\n",
              "    </tr>\n",
              "  </tbody>\n",
              "</table>\n",
              "</div>"
            ],
            "text/plain": [
              "  animal name  hair  feathers  eggs  milk  airborne  aquatic  predator  \\\n",
              "0    aardvark     1         0     0     1         0        0         1   \n",
              "1    antelope     1         0     0     1         0        0         0   \n",
              "2        bass     0         0     1     0         0        1         1   \n",
              "3        bear     1         0     0     1         0        0         1   \n",
              "4        boar     1         0     0     1         0        0         1   \n",
              "\n",
              "   toothed  backbone  breathes  venomous  fins  legs  tail  domestic  catsize  \\\n",
              "0        1         1         1         0     0     4     0         0        1   \n",
              "1        1         1         1         0     0     4     1         0        1   \n",
              "2        1         1         0         0     1     0     1         0        0   \n",
              "3        1         1         1         0     0     4     0         0        1   \n",
              "4        1         1         1         0     0     4     1         0        1   \n",
              "\n",
              "   type  \n",
              "0     1  \n",
              "1     1  \n",
              "2     4  \n",
              "3     1  \n",
              "4     1  "
            ]
          },
          "execution_count": 31,
          "metadata": {},
          "output_type": "execute_result"
        }
      ],
      "source": [
        "data_path = '2_laba/zoo.data'\n",
        "\n",
        "# Имена столбцов\n",
        "names = [\"animal name\",\n",
        "   \"hair\",\n",
        "   \"feathers\",\n",
        "   \"eggs\",\n",
        "   \"milk\",\n",
        "   \"airborne\",\n",
        "   \"aquatic\",\n",
        "   \"predator\",\n",
        "   \"toothed\",\n",
        "   \"backbone\",\n",
        "   \"breathes\",\n",
        "   \"venomous\",\n",
        "   \"fins\",\n",
        "   \"legs\",\n",
        "   \"tail\",\n",
        "   \"domestic\",\n",
        "   \"catsize\",\n",
        "   \"type\"]\n",
        "\n",
        "# Чтение данных с указанием названий столбцов\n",
        "data = pd.read_csv(data_path, names=names)\n",
        "data.head()"
      ]
    },
    {
      "cell_type": "markdown",
      "metadata": {
        "id": "TLcVw0Wf0aTr"
      },
      "source": [
        " 1. animal name:      Unique for each instance\n",
        "   2. hair:\t\tBoolean\n",
        "   3. feathers:\t\tBoolean\n",
        "   4. eggs:\t\tBoolean\n",
        "   5. milk:\t\tBoolean\n",
        "   6. airborne:\t\tBoolean\n",
        "   7. aquatic:\t\tBoolean\n",
        "   8. predator:\t\tBoolean\n",
        "   9. toothed:\t\tBoolean\n",
        "  10. backbone:\t\tBoolean\n",
        "  11. breathes:\t\tBoolean\n",
        "  12. venomous:\t\tBoolean\n",
        "  13. fins:\t\tBoolean\n",
        "  14. legs:\t\tNumeric (set of values: {0,2,4,5,6,8})\n",
        "  15. tail:\t\tBoolean\n",
        "  16. domestic:\t\tBoolean\n",
        "  17. catsize:\t\tBoolean\n",
        "  18. type:\t\tNumeric (integer values in range [1,7])"
      ]
    },
    {
      "cell_type": "code",
      "execution_count": null,
      "metadata": {
        "id": "i8DUAzPX0aTs",
        "outputId": "d4ba9ec9-cf56-4937-c679-a5c45502fc19"
      },
      "outputs": [
        {
          "name": "stdout",
          "output_type": "stream",
          "text": [
            "<class 'pandas.core.frame.DataFrame'>\n",
            "RangeIndex: 101 entries, 0 to 100\n",
            "Data columns (total 18 columns):\n",
            " #   Column       Non-Null Count  Dtype \n",
            "---  ------       --------------  ----- \n",
            " 0   animal name  101 non-null    object\n",
            " 1   hair         101 non-null    int64 \n",
            " 2   feathers     101 non-null    int64 \n",
            " 3   eggs         101 non-null    int64 \n",
            " 4   milk         101 non-null    int64 \n",
            " 5   airborne     101 non-null    int64 \n",
            " 6   aquatic      101 non-null    int64 \n",
            " 7   predator     101 non-null    int64 \n",
            " 8   toothed      101 non-null    int64 \n",
            " 9   backbone     101 non-null    int64 \n",
            " 10  breathes     101 non-null    int64 \n",
            " 11  venomous     101 non-null    int64 \n",
            " 12  fins         101 non-null    int64 \n",
            " 13  legs         101 non-null    int64 \n",
            " 14  tail         101 non-null    int64 \n",
            " 15  domestic     101 non-null    int64 \n",
            " 16  catsize      101 non-null    int64 \n",
            " 17  type         101 non-null    int64 \n",
            "dtypes: int64(17), object(1)\n",
            "memory usage: 14.3+ KB\n"
          ]
        }
      ],
      "source": [
        "data.info()\n"
      ]
    },
    {
      "cell_type": "markdown",
      "metadata": {
        "id": "mqxcZ-Wb0aTs"
      },
      "source": [
        "Выбран датасет \"zoo\", который представляет собой набор различных признаков для разных классов животных\n",
        "Колличество признаков 17\n",
        "Пропущенных значений нет\n",
        "Тип данных int64, но в большинстве признаков 0 и 1 используются для обозначения булевых значений.\n",
        "\n",
        "\n"
      ]
    },
    {
      "cell_type": "code",
      "execution_count": null,
      "metadata": {
        "id": "LuNSuJYv0aTt",
        "outputId": "e2420931-d519-4a52-f5ab-36d6c1b7826a"
      },
      "outputs": [
        {
          "data": {
            "text/plain": [
              "array([[<Axes: title={'center': 'hair'}>,\n",
              "        <Axes: title={'center': 'feathers'}>,\n",
              "        <Axes: title={'center': 'eggs'}>,\n",
              "        <Axes: title={'center': 'milk'}>],\n",
              "       [<Axes: title={'center': 'airborne'}>,\n",
              "        <Axes: title={'center': 'aquatic'}>,\n",
              "        <Axes: title={'center': 'predator'}>,\n",
              "        <Axes: title={'center': 'toothed'}>],\n",
              "       [<Axes: title={'center': 'backbone'}>,\n",
              "        <Axes: title={'center': 'breathes'}>,\n",
              "        <Axes: title={'center': 'venomous'}>,\n",
              "        <Axes: title={'center': 'fins'}>],\n",
              "       [<Axes: title={'center': 'legs'}>,\n",
              "        <Axes: title={'center': 'tail'}>,\n",
              "        <Axes: title={'center': 'domestic'}>,\n",
              "        <Axes: title={'center': 'catsize'}>],\n",
              "       [<Axes: title={'center': 'type'}>, <Axes: >, <Axes: >, <Axes: >]],\n",
              "      dtype=object)"
            ]
          },
          "execution_count": 29,
          "metadata": {},
          "output_type": "execute_result"
        },
        {
          "data": {
            "image/png": "[encoded data removed]",
            "text/plain": [
              "<Figure size 640x480 with 20 Axes>"
            ]
          },
          "metadata": {},
          "output_type": "display_data"
        }
      ],
      "source": [
        "data.hist()"
      ]
    },
    {
      "cell_type": "code",
      "execution_count": null,
      "metadata": {
        "id": "mulE0X8d0aTt",
        "outputId": "f707cbc3-c5bd-4b64-a30b-5dd15f0364dc"
      },
      "outputs": [
        {
          "data": {
            "text/plain": [
              "<Axes: >"
            ]
          },
          "execution_count": 5,
          "metadata": {},
          "output_type": "execute_result"
        },
        {
          "data": {
            "image/png": "[encoded data removed]",
            "text/plain": [
              "<Figure size 640x480 with 1 Axes>"
            ]
          },
          "metadata": {},
          "output_type": "display_data"
        }
      ],
      "source": [
        "data['legs'].hist()"
      ]
    },
    {
      "cell_type": "markdown",
      "metadata": {
        "id": "o0DpwL_L0aTu"
      },
      "source": [
        "Из гистограмм видно колличественное соотношение различных признаков. Например для категории \"legs\" гистограмма показывает колличество животных с разным колличеством ног"
      ]
    },
    {
      "cell_type": "code",
      "execution_count": null,
      "metadata": {
        "id": "7WFxgzwK0aTu",
        "outputId": "0efee93f-aa21-40e4-c660-c982a49f1640"
      },
      "outputs": [
        {
          "data": {
            "text/plain": [
              "<Axes: ylabel='legs'>"
            ]
          },
          "execution_count": 31,
          "metadata": {},
          "output_type": "execute_result"
        },
        {
          "data": {
            "image/png": "[encoded data removed]",
            "text/plain": [
              "<Figure size 640x480 with 1 Axes>"
            ]
          },
          "metadata": {},
          "output_type": "display_data"
        }
      ],
      "source": [
        "sns.boxplot(data[\"legs\"])"
      ]
    },
    {
      "cell_type": "code",
      "execution_count": null,
      "metadata": {
        "id": "EZOkC_5t0aTu",
        "outputId": "aa0daef4-8873-48b0-e961-a9c550c87d48"
      },
      "outputs": [
        {
          "name": "stdout",
          "output_type": "stream",
          "text": [
            "     type  legs\n",
            "0       1     4\n",
            "1       1     4\n",
            "2       4     0\n",
            "3       1     4\n",
            "4       1     4\n",
            "..    ...   ...\n",
            "96      1     2\n",
            "97      6     6\n",
            "98      1     4\n",
            "99      7     0\n",
            "100     2     2\n",
            "\n",
            "[101 rows x 2 columns]\n",
            "<pandas.core.groupby.generic.DataFrameGroupBy object at 0x000001666CE6F590> )))\n",
            "      legs\n",
            "type      \n",
            "1      138\n",
            "2       40\n",
            "3        8\n",
            "4        0\n",
            "5       16\n",
            "6       48\n",
            "7       37\n",
            "[1 2 3 4 5 6 7]\n"
          ]
        },
        {
          "name": "stderr",
          "output_type": "stream",
          "text": [
            "C:\\Users\\denis\\AppData\\Local\\Temp\\ipykernel_19548\\3153441237.py:16: FutureWarning: \n",
            "\n",
            "Passing `palette` without assigning `hue` is deprecated and will be removed in v0.14.0. Assign the `x` variable to `hue` and set `legend=False` for the same effect.\n",
            "\n",
            "  sns.boxplot(y=\"legs\",\n"
          ]
        },
        {
          "data": {
            "text/plain": [
              "<Axes: xlabel='type', ylabel='legs'>"
            ]
          },
          "execution_count": 6,
          "metadata": {},
          "output_type": "execute_result"
        },
        {
          "data": {
            "image/png": "[encoded data removed]",
            "text/plain": [
              "<Figure size 640x480 with 1 Axes>"
            ]
          },
          "metadata": {},
          "output_type": "display_data"
        }
      ],
      "source": [
        "top_data = data[[\"type\", \"legs\"]]\n",
        "print(top_data)\n",
        "\n",
        "top_data = top_data.groupby(\"type\")\n",
        "print(top_data, \")))\")\n",
        "\n",
        "top_data = top_data.sum()\n",
        "print(top_data)\n",
        "\n",
        "#top_data = top_data.sort_values(\"type\", ascending=False)\n",
        "#print(top_data)\n",
        "\n",
        "top_data = top_data[:10].index.values\n",
        "print(top_data)\n",
        "\n",
        "sns.boxplot(y=\"legs\",\n",
        "            x=\"type\",\n",
        "            data=data[data.type.isin(top_data)], palette=\"Set3\")"
      ]
    },
    {
      "cell_type": "markdown",
      "metadata": {
        "id": "v6fWvWrs0aTv"
      },
      "source": [
        "1 -- (41) баклан, антилопа, медведь, кабан, буйвол, теленок, морская свинка, гепард, олень, дельфин, слон, фруктовая летучая мышь, жираф, девочка, коза, горилла, хомяк, заяц, леопард, лев, рысь, норка, крот, мангуст, опоссум, орикс, утконос, полоскун, пони, дельфин, пума, котенок, енот, северный олень, тюлень, морской лев, белка, вампир, полевка, валлаби, волк\n",
        "2 -- (20) курица, ворон, голубь, утка, фламинго, чайка, ястреб, киви, жаворонок, страус, попугай, пингвин, фазан, рея, скиммер, скуа, воробей, лебедь, стервятник, крапивник\n",
        "3 -- (5) ядовитый удав, морская змея, глухарь, черепаха, туатара\n",
        "4 -- (13) окунь, карп, сом, подкубок, акула, сейдак, селедка, щука, пиранья, морской конек, скумбрия, скат, тунец\n",
        "5 -- (4) лягушка, лягушка, моллюск, жаба\n",
        "6 -- (8) блоха, мошка, пчела, муха, божья коровка, моль, термит, оса\n",
        "7 -- (10) моллюск, краб, рак, омар, осьминог, скорпион, медуза, слизень, морская звезда, червь\n",
        "\n",
        "\n",
        "\n",
        "\n",
        "\n",
        "type - это группы животных (список выше)\n",
        "legs - это количество ног/лап у них\n",
        "\n",
        "\"Ящики с усами\" выше показывают распределение количества ног в различных группах животных. Для 3 типа видно что количество ног варьируется в диапазоне от 0 до 4 и нет выбросов. Для 1 типа обычно ног 4 (медиана) и есть выбросы 2 и 0."
      ]
    },
    {
      "cell_type": "code",
      "execution_count": null,
      "metadata": {
        "id": "s14uxtfq0aTv",
        "outputId": "cb9a11a0-c581-465e-d97a-fd7812a54296"
      },
      "outputs": [
        {
          "name": "stderr",
          "output_type": "stream",
          "text": [
            "C:\\Users\\denis\\AppData\\Local\\Temp\\ipykernel_19548\\2377760633.py:1: FutureWarning: \n",
            "\n",
            "Passing `palette` without assigning `hue` is deprecated and will be removed in v0.14.0. Assign the `x` variable to `hue` and set `legend=False` for the same effect.\n",
            "\n",
            "  sns.countplot(x= data[\"tail\"], palette=\"pastel\")\n"
          ]
        },
        {
          "data": {
            "text/plain": [
              "<Axes: xlabel='tail', ylabel='count'>"
            ]
          },
          "execution_count": 12,
          "metadata": {},
          "output_type": "execute_result"
        },
        {
          "data": {
            "image/png": "[encoded data removed]",
            "text/plain": [
              "<Figure size 640x480 with 1 Axes>"
            ]
          },
          "metadata": {},
          "output_type": "display_data"
        }
      ],
      "source": [
        "sns.countplot(x= data[\"tail\"], palette=\"pastel\")"
      ]
    },
    {
      "cell_type": "markdown",
      "metadata": {
        "id": "iq96-lC80aTw"
      },
      "source": [
        "countplot считает количество элементов по категориям"
      ]
    },
    {
      "cell_type": "code",
      "execution_count": null,
      "metadata": {
        "id": "FwfSVPJZ0aTw",
        "outputId": "803512a3-de1a-4d7e-af20-12ba21c13150"
      },
      "outputs": [
        {
          "name": "stderr",
          "output_type": "stream",
          "text": [
            "C:\\Users\\denis\\AppData\\Local\\Temp\\ipykernel_19548\\3335712230.py:1: FutureWarning: \n",
            "\n",
            "Passing `palette` without assigning `hue` is deprecated and will be removed in v0.14.0. Assign the `x` variable to `hue` and set `legend=False` for the same effect.\n",
            "\n",
            "  sns.countplot(x= \"type\",data =  data[data[\"type\"].isin(data[\"type\"].value_counts().head(5).index)], palette = \"pastel\")\n"
          ]
        },
        {
          "data": {
            "text/plain": [
              "<Axes: xlabel='type', ylabel='count'>"
            ]
          },
          "execution_count": 18,
          "metadata": {},
          "output_type": "execute_result"
        },
        {
          "data": {
            "image/png": "[encoded data removed]",
            "text/plain": [
              "<Figure size 640x480 with 1 Axes>"
            ]
          },
          "metadata": {},
          "output_type": "display_data"
        }
      ],
      "source": [
        "sns.countplot(x= \"type\",data =  data[data[\"type\"].isin(data[\"type\"].value_counts().head(5).index)], palette = \"pastel\")"
      ]
    },
    {
      "cell_type": "markdown",
      "metadata": {
        "id": "TzMI1PnV0aTw"
      },
      "source": [
        "на данном countplot видно колличество 5 самых многочисленных элементов в категории type"
      ]
    },
    {
      "cell_type": "code",
      "execution_count": null,
      "metadata": {
        "id": "qAtHIiLT0aTw",
        "outputId": "bae12340-d5b7-4e81-edbe-d50753e4a8a0"
      },
      "outputs": [
        {
          "name": "stderr",
          "output_type": "stream",
          "text": [
            "c:\\Users\\denis\\AppData\\Local\\Programs\\Python\\Python312\\Lib\\site-packages\\seaborn\\axisgrid.py:1513: UserWarning: The palette list has more values (3) than needed (2), which may not be intended.\n",
            "  func(x=vector, **plot_kwargs)\n",
            "c:\\Users\\denis\\AppData\\Local\\Programs\\Python\\Python312\\Lib\\site-packages\\seaborn\\axisgrid.py:1513: UserWarning: The palette list has more values (3) than needed (2), which may not be intended.\n",
            "  func(x=vector, **plot_kwargs)\n",
            "c:\\Users\\denis\\AppData\\Local\\Programs\\Python\\Python312\\Lib\\site-packages\\seaborn\\axisgrid.py:1615: UserWarning: The palette list has more values (3) than needed (2), which may not be intended.\n",
            "  func(x=x, y=y, **kwargs)\n",
            "c:\\Users\\denis\\AppData\\Local\\Programs\\Python\\Python312\\Lib\\site-packages\\seaborn\\axisgrid.py:1615: UserWarning: The palette list has more values (3) than needed (2), which may not be intended.\n",
            "  func(x=x, y=y, **kwargs)\n"
          ]
        },
        {
          "data": {
            "text/plain": [
              "<seaborn.axisgrid.PairGrid at 0x1a51b0c56a0>"
            ]
          },
          "execution_count": 27,
          "metadata": {},
          "output_type": "execute_result"
        },
        {
          "data": {
            "image/png": "[encoded data removed]",
            "text/plain": [
              "<Figure size 558.875x500 with 6 Axes>"
            ]
          },
          "metadata": {},
          "output_type": "display_data"
        }
      ],
      "source": [
        "custom_palette = [\"#FF5733\", \"#33FF57\", \"#3357FF\"]\n",
        "\n",
        "\n",
        "sns.pairplot(data=data[[\"type\", \"legs\", \"tail\"]], hue=\"tail\", palette=custom_palette)\n",
        "\n"
      ]
    },
    {
      "cell_type": "markdown",
      "metadata": {
        "id": "-frL2REt0aTx"
      },
      "source": [
        "на данном графике мы видим попарное распределение значений для двух категорий \"legs\"and \"type\". И при этом точки раскрашены в зависимости от наличия хвоста (0 или 1 в категории \"tail\")"
      ]
    },
    {
      "cell_type": "code",
      "execution_count": null,
      "metadata": {
        "id": "uVizAi4c0aTx",
        "outputId": "d96cfa61-b494-42ea-ad19-b2910d610ca2"
      },
      "outputs": [
        {
          "data": {
            "text/plain": [
              "Text(0, 0.5, 'Тип')"
            ]
          },
          "execution_count": 39,
          "metadata": {},
          "output_type": "execute_result"
        },
        {
          "data": {
            "image/png": "[encoded data removed]",
            "text/plain": [
              "<Figure size 640x480 with 1 Axes>"
            ]
          },
          "metadata": {},
          "output_type": "display_data"
        }
      ],
      "source": [
        "plt.scatter(data[\"legs\"],\n",
        "            data[\"type\"],\n",
        "            color=\"lightblue\", edgecolors=\"blue\")\n",
        "plt.xlabel(\"Количество \\\"ног\\\"\")\n",
        "plt.ylabel(\"Тип\")"
      ]
    },
    {
      "cell_type": "code",
      "execution_count": null,
      "metadata": {
        "id": "VvtzUm2H0aTx",
        "outputId": "61965762-589e-4886-8aa2-e7c4005ae9d6"
      },
      "outputs": [
        {
          "name": "stdout",
          "output_type": "stream",
          "text": [
            "101\n"
          ]
        }
      ],
      "source": [
        "print(data[\"legs\"].count())"
      ]
    },
    {
      "cell_type": "code",
      "execution_count": null,
      "metadata": {
        "id": "cM6fmgjf0aTy",
        "outputId": "673f5b68-8694-410c-e75a-f81340f1698f"
      },
      "outputs": [
        {
          "name": "stdout",
          "output_type": "stream",
          "text": [
            "[4 0 2 6 8 5]\n"
          ]
        }
      ],
      "source": [
        "n = data[\"legs\"].unique()\n",
        "print(n)"
      ]
    },
    {
      "cell_type": "markdown",
      "metadata": {
        "id": "2YjDykIK0aTy"
      },
      "source": [
        "График рассеивания выше показывает взаимосвязь между двумя категориями.\n",
        "Из него видно, что прямой взаимосвязи между количеством  ног и типом связи прямой нет."
      ]
    },
    {
      "cell_type": "code",
      "execution_count": null,
      "metadata": {
        "id": "r57o4wBn0aTy",
        "outputId": "1cccf0ab-20d5-4c9b-ceed-44bdf7341013"
      },
      "outputs": [
        {
          "data": {
            "text/plain": [
              "Text(0, 0.5, 'Тип')"
            ]
          },
          "execution_count": 40,
          "metadata": {},
          "output_type": "execute_result"
        },
        {
          "data": {
            "image/png": "[encoded data removed]",
            "text/plain": [
              "<Figure size 640x480 with 1 Axes>"
            ]
          },
          "metadata": {},
          "output_type": "display_data"
        }
      ],
      "source": [
        "c = data[\"tail\"].map({1: 'lightblue', 0: 'orange'})\n",
        "edge_c = data[\"tail\"].map({1: 'blue', 0: 'red'})\n",
        "plt.scatter(data[\"legs\"],\n",
        "            data[\"type\"],\n",
        "            color=c, edgecolors=edge_c)\n",
        "plt.xlabel(\"Количество \\\"ног\\\"\")\n",
        "plt.ylabel(\"Тип\")"
      ]
    },
    {
      "cell_type": "markdown",
      "metadata": {
        "id": "0qBFJYjq0aTy"
      },
      "source": [
        "Этот график идентичен прошлому, но для него добавлено условие наличия хвоста у животного, от этого зависит цвет точки"
      ]
    },
    {
      "cell_type": "code",
      "execution_count": null,
      "metadata": {
        "id": "XTp8M0hX0aTy",
        "outputId": "e9cf81a4-c8e0-44d3-c2da-195468f43b2f"
      },
      "outputs": [
        {
          "data": {
            "text/html": [
              "<div>\n",
              "<style scoped>\n",
              "    .dataframe tbody tr th:only-of-type {\n",
              "        vertical-align: middle;\n",
              "    }\n",
              "\n",
              "    .dataframe tbody tr th {\n",
              "        vertical-align: top;\n",
              "    }\n",
              "\n",
              "    .dataframe thead th {\n",
              "        text-align: right;\n",
              "    }\n",
              "</style>\n",
              "<table border=\"1\" class=\"dataframe\">\n",
              "  <thead>\n",
              "    <tr style=\"text-align: right;\">\n",
              "      <th></th>\n",
              "      <th>animal name</th>\n",
              "      <th>hair</th>\n",
              "      <th>feathers</th>\n",
              "      <th>eggs</th>\n",
              "      <th>milk</th>\n",
              "      <th>airborne</th>\n",
              "      <th>aquatic</th>\n",
              "      <th>predator</th>\n",
              "      <th>toothed</th>\n",
              "      <th>backbone</th>\n",
              "      <th>breathes</th>\n",
              "      <th>venomous</th>\n",
              "      <th>fins</th>\n",
              "      <th>legs</th>\n",
              "      <th>tail</th>\n",
              "      <th>domestic</th>\n",
              "      <th>catsize</th>\n",
              "      <th>type</th>\n",
              "    </tr>\n",
              "  </thead>\n",
              "  <tbody>\n",
              "    <tr>\n",
              "      <th>0</th>\n",
              "      <td>aardvark</td>\n",
              "      <td>1</td>\n",
              "      <td>0</td>\n",
              "      <td>0</td>\n",
              "      <td>1</td>\n",
              "      <td>0</td>\n",
              "      <td>0</td>\n",
              "      <td>1</td>\n",
              "      <td>1</td>\n",
              "      <td>1</td>\n",
              "      <td>1</td>\n",
              "      <td>0</td>\n",
              "      <td>0</td>\n",
              "      <td>4</td>\n",
              "      <td>0</td>\n",
              "      <td>0</td>\n",
              "      <td>1</td>\n",
              "      <td>1</td>\n",
              "    </tr>\n",
              "    <tr>\n",
              "      <th>1</th>\n",
              "      <td>antelope</td>\n",
              "      <td>1</td>\n",
              "      <td>0</td>\n",
              "      <td>0</td>\n",
              "      <td>1</td>\n",
              "      <td>0</td>\n",
              "      <td>0</td>\n",
              "      <td>0</td>\n",
              "      <td>1</td>\n",
              "      <td>1</td>\n",
              "      <td>1</td>\n",
              "      <td>0</td>\n",
              "      <td>0</td>\n",
              "      <td>4</td>\n",
              "      <td>1</td>\n",
              "      <td>0</td>\n",
              "      <td>1</td>\n",
              "      <td>1</td>\n",
              "    </tr>\n",
              "    <tr>\n",
              "      <th>2</th>\n",
              "      <td>bass</td>\n",
              "      <td>0</td>\n",
              "      <td>0</td>\n",
              "      <td>1</td>\n",
              "      <td>0</td>\n",
              "      <td>0</td>\n",
              "      <td>1</td>\n",
              "      <td>1</td>\n",
              "      <td>1</td>\n",
              "      <td>1</td>\n",
              "      <td>0</td>\n",
              "      <td>0</td>\n",
              "      <td>1</td>\n",
              "      <td>0</td>\n",
              "      <td>1</td>\n",
              "      <td>0</td>\n",
              "      <td>0</td>\n",
              "      <td>4</td>\n",
              "    </tr>\n",
              "    <tr>\n",
              "      <th>3</th>\n",
              "      <td>bear</td>\n",
              "      <td>1</td>\n",
              "      <td>0</td>\n",
              "      <td>0</td>\n",
              "      <td>1</td>\n",
              "      <td>0</td>\n",
              "      <td>0</td>\n",
              "      <td>1</td>\n",
              "      <td>1</td>\n",
              "      <td>1</td>\n",
              "      <td>1</td>\n",
              "      <td>0</td>\n",
              "      <td>0</td>\n",
              "      <td>4</td>\n",
              "      <td>0</td>\n",
              "      <td>0</td>\n",
              "      <td>1</td>\n",
              "      <td>1</td>\n",
              "    </tr>\n",
              "    <tr>\n",
              "      <th>4</th>\n",
              "      <td>boar</td>\n",
              "      <td>1</td>\n",
              "      <td>0</td>\n",
              "      <td>0</td>\n",
              "      <td>1</td>\n",
              "      <td>0</td>\n",
              "      <td>0</td>\n",
              "      <td>1</td>\n",
              "      <td>1</td>\n",
              "      <td>1</td>\n",
              "      <td>1</td>\n",
              "      <td>0</td>\n",
              "      <td>0</td>\n",
              "      <td>4</td>\n",
              "      <td>1</td>\n",
              "      <td>0</td>\n",
              "      <td>1</td>\n",
              "      <td>1</td>\n",
              "    </tr>\n",
              "  </tbody>\n",
              "</table>\n",
              "</div>"
            ],
            "text/plain": [
              "  animal name  hair  feathers  eggs  milk  airborne  aquatic  predator  \\\n",
              "0    aardvark     1         0     0     1         0        0         1   \n",
              "1    antelope     1         0     0     1         0        0         0   \n",
              "2        bass     0         0     1     0         0        1         1   \n",
              "3        bear     1         0     0     1         0        0         1   \n",
              "4        boar     1         0     0     1         0        0         1   \n",
              "\n",
              "   toothed  backbone  breathes  venomous  fins  legs  tail  domestic  catsize  \\\n",
              "0        1         1         1         0     0     4     0         0        1   \n",
              "1        1         1         1         0     0     4     1         0        1   \n",
              "2        1         1         0         0     1     0     1         0        0   \n",
              "3        1         1         1         0     0     4     0         0        1   \n",
              "4        1         1         1         0     0     4     1         0        1   \n",
              "\n",
              "   type  \n",
              "0     1  \n",
              "1     1  \n",
              "2     4  \n",
              "3     1  \n",
              "4     1  "
            ]
          },
          "execution_count": 43,
          "metadata": {},
          "output_type": "execute_result"
        }
      ],
      "source": [
        "data.head()"
      ]
    },
    {
      "cell_type": "code",
      "execution_count": null,
      "metadata": {
        "id": "2DcUzTNB0aTy",
        "outputId": "a5ec1cb7-a193-44d5-f1fb-0844d3c8e148"
      },
      "outputs": [
        {
          "name": "stdout",
          "output_type": "stream",
          "text": [
            "Index(['animal name', 'hair', 'feathers', 'eggs', 'milk', 'airborne',\n",
            "       'aquatic', 'predator', 'toothed', 'backbone', 'breathes', 'venomous',\n",
            "       'fins', 'legs', 'tail', 'domestic', 'catsize', 'type'],\n",
            "      dtype='object')\n"
          ]
        },
        {
          "data": {
            "text/html": [
              "<div>\n",
              "<style scoped>\n",
              "    .dataframe tbody tr th:only-of-type {\n",
              "        vertical-align: middle;\n",
              "    }\n",
              "\n",
              "    .dataframe tbody tr th {\n",
              "        vertical-align: top;\n",
              "    }\n",
              "\n",
              "    .dataframe thead th {\n",
              "        text-align: right;\n",
              "    }\n",
              "</style>\n",
              "<table border=\"1\" class=\"dataframe\">\n",
              "  <thead>\n",
              "    <tr style=\"text-align: right;\">\n",
              "      <th></th>\n",
              "      <th>hair</th>\n",
              "      <th>feathers</th>\n",
              "      <th>eggs</th>\n",
              "      <th>milk</th>\n",
              "      <th>airborne</th>\n",
              "      <th>aquatic</th>\n",
              "      <th>predator</th>\n",
              "      <th>toothed</th>\n",
              "      <th>backbone</th>\n",
              "      <th>breathes</th>\n",
              "      <th>venomous</th>\n",
              "      <th>fins</th>\n",
              "      <th>legs</th>\n",
              "      <th>tail</th>\n",
              "      <th>domestic</th>\n",
              "      <th>catsize</th>\n",
              "      <th>type</th>\n",
              "    </tr>\n",
              "  </thead>\n",
              "  <tbody>\n",
              "    <tr>\n",
              "      <th>hair</th>\n",
              "      <td>1.000000</td>\n",
              "      <td>-0.427851</td>\n",
              "      <td>-0.817382</td>\n",
              "      <td>0.878503</td>\n",
              "      <td>-0.198431</td>\n",
              "      <td>-0.473554</td>\n",
              "      <td>-0.154769</td>\n",
              "      <td>0.492531</td>\n",
              "      <td>0.191681</td>\n",
              "      <td>0.441149</td>\n",
              "      <td>-0.104245</td>\n",
              "      <td>-0.280313</td>\n",
              "      <td>0.394009</td>\n",
              "      <td>0.048973</td>\n",
              "      <td>0.207208</td>\n",
              "      <td>0.455020</td>\n",
              "      <td>-0.562384</td>\n",
              "    </tr>\n",
              "    <tr>\n",
              "      <th>feathers</th>\n",
              "      <td>-0.427851</td>\n",
              "      <td>1.000000</td>\n",
              "      <td>0.419248</td>\n",
              "      <td>-0.410761</td>\n",
              "      <td>0.656553</td>\n",
              "      <td>-0.058552</td>\n",
              "      <td>-0.104430</td>\n",
              "      <td>-0.613631</td>\n",
              "      <td>0.231403</td>\n",
              "      <td>0.254588</td>\n",
              "      <td>-0.145739</td>\n",
              "      <td>-0.223541</td>\n",
              "      <td>-0.206686</td>\n",
              "      <td>0.292569</td>\n",
              "      <td>0.031586</td>\n",
              "      <td>-0.135934</td>\n",
              "      <td>-0.197520</td>\n",
              "    </tr>\n",
              "    <tr>\n",
              "      <th>eggs</th>\n",
              "      <td>-0.817382</td>\n",
              "      <td>0.419248</td>\n",
              "      <td>1.000000</td>\n",
              "      <td>-0.938848</td>\n",
              "      <td>0.376646</td>\n",
              "      <td>0.376244</td>\n",
              "      <td>0.011605</td>\n",
              "      <td>-0.642150</td>\n",
              "      <td>-0.340420</td>\n",
              "      <td>-0.382777</td>\n",
              "      <td>0.098689</td>\n",
              "      <td>0.164796</td>\n",
              "      <td>-0.224918</td>\n",
              "      <td>-0.221090</td>\n",
              "      <td>-0.155610</td>\n",
              "      <td>-0.514650</td>\n",
              "      <td>0.661825</td>\n",
              "    </tr>\n",
              "    <tr>\n",
              "      <th>milk</th>\n",
              "      <td>0.878503</td>\n",
              "      <td>-0.410761</td>\n",
              "      <td>-0.938848</td>\n",
              "      <td>1.000000</td>\n",
              "      <td>-0.366765</td>\n",
              "      <td>-0.362613</td>\n",
              "      <td>-0.029721</td>\n",
              "      <td>0.628168</td>\n",
              "      <td>0.384958</td>\n",
              "      <td>0.423527</td>\n",
              "      <td>-0.242449</td>\n",
              "      <td>-0.156328</td>\n",
              "      <td>0.214196</td>\n",
              "      <td>0.210026</td>\n",
              "      <td>0.163928</td>\n",
              "      <td>0.574906</td>\n",
              "      <td>-0.723683</td>\n",
              "    </tr>\n",
              "    <tr>\n",
              "      <th>airborne</th>\n",
              "      <td>-0.198431</td>\n",
              "      <td>0.656553</td>\n",
              "      <td>0.376646</td>\n",
              "      <td>-0.366765</td>\n",
              "      <td>1.000000</td>\n",
              "      <td>-0.172638</td>\n",
              "      <td>-0.295181</td>\n",
              "      <td>-0.594311</td>\n",
              "      <td>-0.104718</td>\n",
              "      <td>0.286039</td>\n",
              "      <td>0.008528</td>\n",
              "      <td>-0.251157</td>\n",
              "      <td>0.043712</td>\n",
              "      <td>0.009482</td>\n",
              "      <td>0.063274</td>\n",
              "      <td>-0.349768</td>\n",
              "      <td>0.022677</td>\n",
              "    </tr>\n",
              "    <tr>\n",
              "      <th>aquatic</th>\n",
              "      <td>-0.473554</td>\n",
              "      <td>-0.058552</td>\n",
              "      <td>0.376244</td>\n",
              "      <td>-0.362613</td>\n",
              "      <td>-0.172638</td>\n",
              "      <td>1.000000</td>\n",
              "      <td>0.375978</td>\n",
              "      <td>0.053150</td>\n",
              "      <td>0.022463</td>\n",
              "      <td>-0.637506</td>\n",
              "      <td>0.087915</td>\n",
              "      <td>0.604492</td>\n",
              "      <td>-0.360638</td>\n",
              "      <td>-0.034642</td>\n",
              "      <td>-0.224308</td>\n",
              "      <td>-0.111866</td>\n",
              "      <td>0.326639</td>\n",
              "    </tr>\n",
              "    <tr>\n",
              "      <th>predator</th>\n",
              "      <td>-0.154769</td>\n",
              "      <td>-0.104430</td>\n",
              "      <td>0.011605</td>\n",
              "      <td>-0.029721</td>\n",
              "      <td>-0.295181</td>\n",
              "      <td>0.375978</td>\n",
              "      <td>1.000000</td>\n",
              "      <td>0.129452</td>\n",
              "      <td>0.051022</td>\n",
              "      <td>-0.262931</td>\n",
              "      <td>0.115391</td>\n",
              "      <td>0.190302</td>\n",
              "      <td>-0.099723</td>\n",
              "      <td>0.018947</td>\n",
              "      <td>-0.309794</td>\n",
              "      <td>0.144790</td>\n",
              "      <td>0.061179</td>\n",
              "    </tr>\n",
              "    <tr>\n",
              "      <th>toothed</th>\n",
              "      <td>0.492531</td>\n",
              "      <td>-0.613631</td>\n",
              "      <td>-0.642150</td>\n",
              "      <td>0.628168</td>\n",
              "      <td>-0.594311</td>\n",
              "      <td>0.053150</td>\n",
              "      <td>0.129452</td>\n",
              "      <td>1.000000</td>\n",
              "      <td>0.575085</td>\n",
              "      <td>-0.065690</td>\n",
              "      <td>-0.062344</td>\n",
              "      <td>0.364292</td>\n",
              "      <td>-0.193476</td>\n",
              "      <td>0.310368</td>\n",
              "      <td>0.069430</td>\n",
              "      <td>0.344010</td>\n",
              "      <td>-0.471527</td>\n",
              "    </tr>\n",
              "    <tr>\n",
              "      <th>backbone</th>\n",
              "      <td>0.191681</td>\n",
              "      <td>0.231403</td>\n",
              "      <td>-0.340420</td>\n",
              "      <td>0.384958</td>\n",
              "      <td>-0.104718</td>\n",
              "      <td>0.022463</td>\n",
              "      <td>0.051022</td>\n",
              "      <td>0.575085</td>\n",
              "      <td>1.000000</td>\n",
              "      <td>0.207666</td>\n",
              "      <td>-0.246611</td>\n",
              "      <td>0.209499</td>\n",
              "      <td>-0.432856</td>\n",
              "      <td>0.731762</td>\n",
              "      <td>0.101733</td>\n",
              "      <td>0.356976</td>\n",
              "      <td>-0.828845</td>\n",
              "    </tr>\n",
              "    <tr>\n",
              "      <th>breathes</th>\n",
              "      <td>0.441149</td>\n",
              "      <td>0.254588</td>\n",
              "      <td>-0.382777</td>\n",
              "      <td>0.423527</td>\n",
              "      <td>0.286039</td>\n",
              "      <td>-0.637506</td>\n",
              "      <td>-0.262931</td>\n",
              "      <td>-0.065690</td>\n",
              "      <td>0.207666</td>\n",
              "      <td>1.000000</td>\n",
              "      <td>-0.120752</td>\n",
              "      <td>-0.617219</td>\n",
              "      <td>0.369868</td>\n",
              "      <td>0.088952</td>\n",
              "      <td>0.124068</td>\n",
              "      <td>0.204125</td>\n",
              "      <td>-0.519308</td>\n",
              "    </tr>\n",
              "    <tr>\n",
              "      <th>venomous</th>\n",
              "      <td>-0.104245</td>\n",
              "      <td>-0.145739</td>\n",
              "      <td>0.098689</td>\n",
              "      <td>-0.242449</td>\n",
              "      <td>0.008528</td>\n",
              "      <td>0.087915</td>\n",
              "      <td>0.115391</td>\n",
              "      <td>-0.062344</td>\n",
              "      <td>-0.246611</td>\n",
              "      <td>-0.120752</td>\n",
              "      <td>1.000000</td>\n",
              "      <td>-0.033956</td>\n",
              "      <td>0.022964</td>\n",
              "      <td>-0.162724</td>\n",
              "      <td>-0.003252</td>\n",
              "      <td>-0.183748</td>\n",
              "      <td>0.321476</td>\n",
              "    </tr>\n",
              "    <tr>\n",
              "      <th>fins</th>\n",
              "      <td>-0.280313</td>\n",
              "      <td>-0.223541</td>\n",
              "      <td>0.164796</td>\n",
              "      <td>-0.156328</td>\n",
              "      <td>-0.251157</td>\n",
              "      <td>0.604492</td>\n",
              "      <td>0.190302</td>\n",
              "      <td>0.364292</td>\n",
              "      <td>0.209499</td>\n",
              "      <td>-0.617219</td>\n",
              "      <td>-0.033956</td>\n",
              "      <td>1.000000</td>\n",
              "      <td>-0.605652</td>\n",
              "      <td>0.204349</td>\n",
              "      <td>-0.093887</td>\n",
              "      <td>0.031705</td>\n",
              "      <td>0.099430</td>\n",
              "    </tr>\n",
              "    <tr>\n",
              "      <th>legs</th>\n",
              "      <td>0.394009</td>\n",
              "      <td>-0.206686</td>\n",
              "      <td>-0.224918</td>\n",
              "      <td>0.214196</td>\n",
              "      <td>0.043712</td>\n",
              "      <td>-0.360638</td>\n",
              "      <td>-0.099723</td>\n",
              "      <td>-0.193476</td>\n",
              "      <td>-0.432856</td>\n",
              "      <td>0.369868</td>\n",
              "      <td>0.022964</td>\n",
              "      <td>-0.605652</td>\n",
              "      <td>1.000000</td>\n",
              "      <td>-0.348295</td>\n",
              "      <td>0.073931</td>\n",
              "      <td>0.068791</td>\n",
              "      <td>0.131693</td>\n",
              "    </tr>\n",
              "    <tr>\n",
              "      <th>tail</th>\n",
              "      <td>0.048973</td>\n",
              "      <td>0.292569</td>\n",
              "      <td>-0.221090</td>\n",
              "      <td>0.210026</td>\n",
              "      <td>0.009482</td>\n",
              "      <td>-0.034642</td>\n",
              "      <td>0.018947</td>\n",
              "      <td>0.310368</td>\n",
              "      <td>0.731762</td>\n",
              "      <td>0.088952</td>\n",
              "      <td>-0.162724</td>\n",
              "      <td>0.204349</td>\n",
              "      <td>-0.348295</td>\n",
              "      <td>1.000000</td>\n",
              "      <td>0.023434</td>\n",
              "      <td>0.243277</td>\n",
              "      <td>-0.631830</td>\n",
              "    </tr>\n",
              "    <tr>\n",
              "      <th>domestic</th>\n",
              "      <td>0.207208</td>\n",
              "      <td>0.031586</td>\n",
              "      <td>-0.155610</td>\n",
              "      <td>0.163928</td>\n",
              "      <td>0.063274</td>\n",
              "      <td>-0.224308</td>\n",
              "      <td>-0.309794</td>\n",
              "      <td>0.069430</td>\n",
              "      <td>0.101733</td>\n",
              "      <td>0.124068</td>\n",
              "      <td>-0.003252</td>\n",
              "      <td>-0.093887</td>\n",
              "      <td>0.073931</td>\n",
              "      <td>0.023434</td>\n",
              "      <td>1.000000</td>\n",
              "      <td>0.020073</td>\n",
              "      <td>-0.181043</td>\n",
              "    </tr>\n",
              "    <tr>\n",
              "      <th>catsize</th>\n",
              "      <td>0.455020</td>\n",
              "      <td>-0.135934</td>\n",
              "      <td>-0.514650</td>\n",
              "      <td>0.574906</td>\n",
              "      <td>-0.349768</td>\n",
              "      <td>-0.111866</td>\n",
              "      <td>0.144790</td>\n",
              "      <td>0.344010</td>\n",
              "      <td>0.356976</td>\n",
              "      <td>0.204125</td>\n",
              "      <td>-0.183748</td>\n",
              "      <td>0.031705</td>\n",
              "      <td>0.068791</td>\n",
              "      <td>0.243277</td>\n",
              "      <td>0.020073</td>\n",
              "      <td>1.000000</td>\n",
              "      <td>-0.521030</td>\n",
              "    </tr>\n",
              "    <tr>\n",
              "      <th>type</th>\n",
              "      <td>-0.562384</td>\n",
              "      <td>-0.197520</td>\n",
              "      <td>0.661825</td>\n",
              "      <td>-0.723683</td>\n",
              "      <td>0.022677</td>\n",
              "      <td>0.326639</td>\n",
              "      <td>0.061179</td>\n",
              "      <td>-0.471527</td>\n",
              "      <td>-0.828845</td>\n",
              "      <td>-0.519308</td>\n",
              "      <td>0.321476</td>\n",
              "      <td>0.099430</td>\n",
              "      <td>0.131693</td>\n",
              "      <td>-0.631830</td>\n",
              "      <td>-0.181043</td>\n",
              "      <td>-0.521030</td>\n",
              "      <td>1.000000</td>\n",
              "    </tr>\n",
              "  </tbody>\n",
              "</table>\n",
              "</div>"
            ],
            "text/plain": [
              "              hair  feathers      eggs      milk  airborne   aquatic  \\\n",
              "hair      1.000000 -0.427851 -0.817382  0.878503 -0.198431 -0.473554   \n",
              "feathers -0.427851  1.000000  0.419248 -0.410761  0.656553 -0.058552   \n",
              "eggs     -0.817382  0.419248  1.000000 -0.938848  0.376646  0.376244   \n",
              "milk      0.878503 -0.410761 -0.938848  1.000000 -0.366765 -0.362613   \n",
              "airborne -0.198431  0.656553  0.376646 -0.366765  1.000000 -0.172638   \n",
              "aquatic  -0.473554 -0.058552  0.376244 -0.362613 -0.172638  1.000000   \n",
              "predator -0.154769 -0.104430  0.011605 -0.029721 -0.295181  0.375978   \n",
              "toothed   0.492531 -0.613631 -0.642150  0.628168 -0.594311  0.053150   \n",
              "backbone  0.191681  0.231403 -0.340420  0.384958 -0.104718  0.022463   \n",
              "breathes  0.441149  0.254588 -0.382777  0.423527  0.286039 -0.637506   \n",
              "venomous -0.104245 -0.145739  0.098689 -0.242449  0.008528  0.087915   \n",
              "fins     -0.280313 -0.223541  0.164796 -0.156328 -0.251157  0.604492   \n",
              "legs      0.394009 -0.206686 -0.224918  0.214196  0.043712 -0.360638   \n",
              "tail      0.048973  0.292569 -0.221090  0.210026  0.009482 -0.034642   \n",
              "domestic  0.207208  0.031586 -0.155610  0.163928  0.063274 -0.224308   \n",
              "catsize   0.455020 -0.135934 -0.514650  0.574906 -0.349768 -0.111866   \n",
              "type     -0.562384 -0.197520  0.661825 -0.723683  0.022677  0.326639   \n",
              "\n",
              "          predator   toothed  backbone  breathes  venomous      fins  \\\n",
              "hair     -0.154769  0.492531  0.191681  0.441149 -0.104245 -0.280313   \n",
              "feathers -0.104430 -0.613631  0.231403  0.254588 -0.145739 -0.223541   \n",
              "eggs      0.011605 -0.642150 -0.340420 -0.382777  0.098689  0.164796   \n",
              "milk     -0.029721  0.628168  0.384958  0.423527 -0.242449 -0.156328   \n",
              "airborne -0.295181 -0.594311 -0.104718  0.286039  0.008528 -0.251157   \n",
              "aquatic   0.375978  0.053150  0.022463 -0.637506  0.087915  0.604492   \n",
              "predator  1.000000  0.129452  0.051022 -0.262931  0.115391  0.190302   \n",
              "toothed   0.129452  1.000000  0.575085 -0.065690 -0.062344  0.364292   \n",
              "backbone  0.051022  0.575085  1.000000  0.207666 -0.246611  0.209499   \n",
              "breathes -0.262931 -0.065690  0.207666  1.000000 -0.120752 -0.617219   \n",
              "venomous  0.115391 -0.062344 -0.246611 -0.120752  1.000000 -0.033956   \n",
              "fins      0.190302  0.364292  0.209499 -0.617219 -0.033956  1.000000   \n",
              "legs     -0.099723 -0.193476 -0.432856  0.369868  0.022964 -0.605652   \n",
              "tail      0.018947  0.310368  0.731762  0.088952 -0.162724  0.204349   \n",
              "domestic -0.309794  0.069430  0.101733  0.124068 -0.003252 -0.093887   \n",
              "catsize   0.144790  0.344010  0.356976  0.204125 -0.183748  0.031705   \n",
              "type      0.061179 -0.471527 -0.828845 -0.519308  0.321476  0.099430   \n",
              "\n",
              "              legs      tail  domestic   catsize      type  \n",
              "hair      0.394009  0.048973  0.207208  0.455020 -0.562384  \n",
              "feathers -0.206686  0.292569  0.031586 -0.135934 -0.197520  \n",
              "eggs     -0.224918 -0.221090 -0.155610 -0.514650  0.661825  \n",
              "milk      0.214196  0.210026  0.163928  0.574906 -0.723683  \n",
              "airborne  0.043712  0.009482  0.063274 -0.349768  0.022677  \n",
              "aquatic  -0.360638 -0.034642 -0.224308 -0.111866  0.326639  \n",
              "predator -0.099723  0.018947 -0.309794  0.144790  0.061179  \n",
              "toothed  -0.193476  0.310368  0.069430  0.344010 -0.471527  \n",
              "backbone -0.432856  0.731762  0.101733  0.356976 -0.828845  \n",
              "breathes  0.369868  0.088952  0.124068  0.204125 -0.519308  \n",
              "venomous  0.022964 -0.162724 -0.003252 -0.183748  0.321476  \n",
              "fins     -0.605652  0.204349 -0.093887  0.031705  0.099430  \n",
              "legs      1.000000 -0.348295  0.073931  0.068791  0.131693  \n",
              "tail     -0.348295  1.000000  0.023434  0.243277 -0.631830  \n",
              "domestic  0.073931  0.023434  1.000000  0.020073 -0.181043  \n",
              "catsize   0.068791  0.243277  0.020073  1.000000 -0.521030  \n",
              "type      0.131693 -0.631830 -0.181043 -0.521030  1.000000  "
            ]
          },
          "execution_count": 48,
          "metadata": {},
          "output_type": "execute_result"
        }
      ],
      "source": [
        "print(data.columns)\n",
        "data_corr = data.drop(columns=[\"animal name\"])\n",
        "data_corr.corr()"
      ]
    },
    {
      "cell_type": "markdown",
      "metadata": {
        "id": "0So0zdMp0aTz"
      },
      "source": [
        "В таблице выше виден коэффициент корреляции между всеми данными в датасете"
      ]
    },
    {
      "cell_type": "code",
      "execution_count": null,
      "metadata": {
        "id": "6ZduGN-P0aTz",
        "outputId": "d423d239-d646-40bb-d885-ce091dd00a10"
      },
      "outputs": [
        {
          "data": {
            "text/plain": [
              "<Axes: >"
            ]
          },
          "execution_count": 50,
          "metadata": {},
          "output_type": "execute_result"
        },
        {
          "data": {
            "image/png": "[encoded data removed]",
            "text/plain": [
              "<Figure size 640x480 with 2 Axes>"
            ]
          },
          "metadata": {},
          "output_type": "display_data"
        }
      ],
      "source": [
        "sns.heatmap(data_corr.corr(), cmap=plt.cm.Blues)"
      ]
    },
    {
      "cell_type": "markdown",
      "metadata": {
        "id": "ePa3NfpW0aTz"
      },
      "source": [
        "Для наглядности матрицу корреляции можно визуализировать с помощью heatmap"
      ]
    },
    {
      "cell_type": "markdown",
      "metadata": {
        "id": "-kQJWocq0aTz"
      },
      "source": [
        "![image.png](attachment:image.png)"
      ]
    },
    {
      "cell_type": "markdown",
      "metadata": {
        "id": "OldwB9Eq0aTz"
      },
      "source": [
        "![image.png](attachment:image.png)"
      ]
    },
    {
      "cell_type": "markdown",
      "metadata": {
        "id": "YZnVK_ny0aTz"
      },
      "source": [
        "Контрольные вопросы:\n",
        "\n",
        "1.\tДля организации рабочего места специалиста по Data Science используются следующие средства: Jupyter notebook, VS code, python, numpy, matplotlib и др.\n",
        "2.\tNumpy служит для работы с числовыми данными, матрицами, тензорами\n",
        "Matplotlib для работы с данными, визуального представления числовых данных\n",
        "3.\tPython получил широкое распространение в машинном обучении. Этот язык обладает определенными характеристиками, которые делают его наилучшим выбором для ML- и ИИ-проектов: он простой и логичный, гибкий и мультиплатформенный, имеет отличные библиотеки и фреймворки для машинного обучения и работы с ИИ, а еще за ним стоит многочисленное сообщество разработчиков. Благодаря всему этому Python является одним из самых популярных языков программирования в мире, причем не только в сфере ML и ИИ.\n",
        "4. head() read_csv() info() hist() boxplot() countplot() pairplot() scatter() corr()\n",
        "5. pandas\n",
        "6. удаление строк данных является нежелательной стратегией\n",
        "7. Зависит от выбранного алгоритма обучения, для некоторых кодирование на входе необходимо, а для некоторых нет. Так же зависит от того, что это за категориальные признаки.\n",
        "8. Выборку надо разбивать, чтобы на одной части обучать, а на другой проверять эффективность обучения и корректировать ход обучения.\n",
        "25:75\n",
        "9. read_csv()\n"
      ]
    }
  ],
  "metadata": {
    "kernelspec": {
      "display_name": "Python 3",
      "language": "python",
      "name": "python3"
    },
    "language_info": {
      "codemirror_mode": {
        "name": "ipython",
        "version": 3
      },
      "file_extension": ".py",
      "mimetype": "text/x-python",
      "name": "python",
      "nbconvert_exporter": "python",
      "pygments_lexer": "ipython3",
      "version": "3.12.1"
    },
    "colab": {
      "provenance": [],
      "include_colab_link": true
    }
  },
  "nbformat": 4,
  "nbformat_minor": 0
}