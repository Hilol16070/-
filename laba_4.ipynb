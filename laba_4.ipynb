{
  "cells": [
    {
      "cell_type": "markdown",
      "metadata": {
        "id": "view-in-github",
        "colab_type": "text"
      },
      "source": [
        "<a href=\"https://colab.research.google.com/github/Hilol16070/-/blob/main/laba_4.ipynb\" target=\"_parent\"><img src=\"https://colab.research.google.com/assets/colab-badge.svg\" alt=\"Open In Colab\"/></a>"
      ]
    },
    {
      "cell_type": "markdown",
      "metadata": {
        "id": "QIN0ectdyDGg"
      },
      "source": [
        "# ПРАКТИЧЕСКАЯ РАБОТА 4. ДАННЫЕ В ФОРМАТЕ CSV\n",
        "\n",
        "Давлатов Хилол Илхомджонович\n",
        "ПИН-б-о-22-1 09.03.03 Прикладная информатика\n",
        "\n",
        "Цель работы: научиться обрабатывать данные из файла csv.\n",
        "Задачи лабораторной работы:\n",
        "– научиться считывать строки из файла csv;\n",
        "– научиться преобразовывать типы данных;\n",
        "– научиться решать прикладные задачи с использованием простых скриптов.\n"
      ]
    },
    {
      "cell_type": "code",
      "source": [],
      "metadata": {
        "id": "dvKOMPbsyDib"
      },
      "execution_count": null,
      "outputs": []
    },
    {
      "cell_type": "code",
      "execution_count": null,
      "metadata": {
        "id": "-F7dibwoyDGi"
      },
      "outputs": [],
      "source": []
    },
    {
      "cell_type": "markdown",
      "metadata": {
        "id": "ePGtqX6VyDGj"
      },
      "source": [
        "![image.png](attachment:image.png)"
      ]
    },
    {
      "cell_type": "code",
      "execution_count": null,
      "metadata": {
        "id": "BljD1q-MyDGk",
        "outputId": "2ab41098-8456-4bf1-9b51-631788413403"
      },
      "outputs": [
        {
          "name": "stdout",
          "output_type": "stream",
          "text": [
            "['ID', 'LastName', 'FirstName', 'email', 'salary', 'Skill', 'Tax']\n",
            "----------------------------------------\n",
            "[{'ID': '71-0315382', 'LastName': 'Rubinovitch', 'FirstName': 'MГ©lanie', 'email': 'drubinovitch0@google.com.hk', 'salary': 4883.13, 'Skill': 'WDK', 'Tax': 210.22}, {'ID': '07-2273300', 'LastName': 'Fitzjohn', 'FirstName': 'AnaГ©', 'email': 'tfitzjohn1@miibeian.gov.cn', 'salary': 3382.68, 'Skill': 'JVs', 'Tax': 127.36}, {'ID': '00-5608520', 'LastName': '', 'FirstName': 'CГ©lestine', 'email': 'caires2@quantcast.com', 'salary': 8636.92, 'Skill': 'IASO', 'Tax': 396.5}, {'ID': '01-9616396', 'LastName': 'Rides', 'FirstName': 'TГЎng', 'email': '', 'salary': 4429.53, 'Skill': '', 'Tax': 184.48}, {'ID': '85-1552843', 'LastName': '', 'FirstName': 'BГ©nГ©dicte', 'email': 'loby4@blogs.com', 'salary': 1918.43, 'Skill': 'TMJ Treatment', 'Tax': 498.07}, {'ID': '30-9588911', 'LastName': 'Lupson', 'FirstName': 'BГ©cassine', 'email': 'mlupson5@discuz.net', 'salary': 9559.02, 'Skill': 'Process Efficiency', 'Tax': 307.9}, {'ID': '53-4120154', 'LastName': 'Amy', 'FirstName': 'ThГ©rГЁsa', 'email': 'famy6@intel.com', 'salary': 2907.28, 'Skill': '', 'Tax': 73.33}, {'ID': '56-0122655', 'LastName': 'Robertson', 'FirstName': 'GaГ©tane', 'email': '', 'salary': 1294.29, 'Skill': 'Operational Risk', 'Tax': 285.39}, {'ID': '52-3192486', 'LastName': 'Sturt', 'FirstName': 'VГ©nus', 'email': 'osturt8@abc.net.au', 'salary': 1609.45, 'Skill': 'Editorial Illustrations', 'Tax': 224.27}, {'ID': '96-1723335', 'LastName': 'Mitchener', 'FirstName': 'GaГ©tane', 'email': '', 'salary': 3611.53, 'Skill': 'Classical', 'Tax': 42.37}]\n"
          ]
        }
      ],
      "source": [
        "F = open('p4_data_13.csv')\n",
        "header = F.readline().strip().split(',')\n",
        "print(header)\n",
        "print(\"-\"*40)\n",
        "\n",
        "all_clients=[]\n",
        "\n",
        "for line in F:\n",
        "    data = line.strip().split(\",\")\n",
        "    client = {}\n",
        "    for i, key in enumerate(header):\n",
        "        client[key] = data[i]\n",
        "\n",
        "    all_clients.append(client)\n",
        "    client['salary'] = float(client['salary'][1:])\n",
        "    client['Tax'] = float(client['Tax'][1:])\n",
        "\n",
        "print(all_clients[:10])\n",
        "\n",
        "F.close()\n"
      ]
    },
    {
      "cell_type": "code",
      "execution_count": null,
      "metadata": {
        "id": "s0ukN1WlyDGm",
        "outputId": "c1217365-cf3c-4f7f-b9e5-0fde89d5bd4a"
      },
      "outputs": [
        {
          "name": "stdout",
          "output_type": "stream",
          "text": [
            "макс зарплата 9992.67 клиент {'ID': '82-4823297', 'LastName': 'Von Welden', 'FirstName': 'KallistГ©', 'email': 'mvonweldenm7@multiply.com', 'salary': 9992.67, 'Skill': 'HW Design', 'Tax': 290.87}\n",
            "мин зарплата 1001.66 клиент {'ID': '32-9285194', 'LastName': 'Wehden', 'FirstName': 'VГ©nus', 'email': 'gwehdenid@zimbio.com', 'salary': 1001.66, 'Skill': 'Segregation of Duties', 'Tax': 408.27}\n"
          ]
        }
      ],
      "source": [
        "min_sal = 10000000000000000000000000\n",
        "max_sal = 0\n",
        "min_sal_man = ''\n",
        "max_sal_man = ''\n",
        "for man in all_clients:\n",
        "    if man[\"salary\"] > max_sal:\n",
        "        max_sal = man[\"salary\"]\n",
        "        max_sal_man = man\n",
        "    if man[\"salary\"] < min_sal:\n",
        "        min_sal = man[\"salary\"]\n",
        "        min_sal_man = man\n",
        "print(\"макс зарплата\", max_sal, \"клиент\", max_sal_man)\n",
        "print(\"мин зарплата\", min_sal, \"клиент\", min_sal_man )"
      ]
    },
    {
      "cell_type": "code",
      "execution_count": null,
      "metadata": {
        "id": "ZJZEGlNDyDGn",
        "outputId": "3bd2e8f1-8f91-4567-9fb9-d30a76bf833b"
      },
      "outputs": [
        {
          "name": "stdout",
          "output_type": "stream",
          "text": [
            "Средняя ЗП:  5474.491166666665\n"
          ]
        }
      ],
      "source": [
        "count = 0\n",
        "sum = 0\n",
        "for man in all_clients:\n",
        "    if man['Skill'] == \"\":\n",
        "        #print(man)\n",
        "        count += 1\n",
        "        sum += man['salary']\n",
        "print(\"Средняя ЗП: \", sum/count)\n"
      ]
    },
    {
      "cell_type": "code",
      "execution_count": null,
      "metadata": {
        "id": "bruC2zEvyDGo",
        "outputId": "ef90f58b-059e-4ad7-aec6-f2f3966b431e"
      },
      "outputs": [
        {
          "name": "stdout",
          "output_type": "stream",
          "text": [
            "Кол вл сотрудников без имейла:  213\n"
          ]
        }
      ],
      "source": [
        "count2 = 0\n",
        "for man in all_clients:\n",
        "    if man[\"email\"] == \"\":\n",
        "        count2 +=1\n",
        "print(\"Кол вл сотрудников без имейла: \", count2)"
      ]
    },
    {
      "cell_type": "code",
      "execution_count": null,
      "metadata": {
        "id": "fWFm9E7tyDGo",
        "outputId": "33a64e8b-617e-4b00-c317-40349cd5368a"
      },
      "outputs": [
        {
          "name": "stdout",
          "output_type": "stream",
          "text": [
            "Сумма налого по всем сотрудникам: 262056.15\n"
          ]
        }
      ],
      "source": [
        "sum_nal = 0\n",
        "for man in all_clients:\n",
        "    sum_nal += man[\"Tax\"]\n",
        "print(\"Сумма налого по всем сотрудникам:\", sum_nal)"
      ]
    },
    {
      "cell_type": "markdown",
      "metadata": {
        "id": "zVjfgZooyDGp"
      },
      "source": [
        "![image.png](attachment:image.png)"
      ]
    },
    {
      "cell_type": "code",
      "execution_count": null,
      "metadata": {
        "id": "mMPYdtHDyDGq",
        "outputId": "a06f4207-7b74-4c70-985a-7de81eb82a27"
      },
      "outputs": [
        {
          "name": "stdout",
          "output_type": "stream",
          "text": [
            "290\n"
          ]
        }
      ],
      "source": [
        "p = [10,100,34,56,45,45]\n",
        "sum22 = 0\n",
        "for i in p:\n",
        "    sum22 += i\n",
        "print(sum22)\n"
      ]
    },
    {
      "cell_type": "code",
      "execution_count": null,
      "metadata": {
        "id": "G9CnRHaayDGq",
        "outputId": "9c8d3c01-74f3-4913-98b1-d440b2dc64e6"
      },
      "outputs": [
        {
          "name": "stdout",
          "output_type": "stream",
          "text": [
            "6\n"
          ]
        }
      ],
      "source": [
        "print(len(p))"
      ]
    },
    {
      "cell_type": "code",
      "execution_count": null,
      "metadata": {
        "id": "NQBDaOkJyDGq",
        "outputId": "3caaf617-96d8-4911-ccf2-9b5938900668"
      },
      "outputs": [
        {
          "name": "stdout",
          "output_type": "stream",
          "text": [
            "112\n"
          ]
        }
      ],
      "source": [
        "p = [10,100,35,34,56,45,45,21]\n",
        "sum_33 = 0\n",
        "for i in p:\n",
        "    if (i % 7) == 0:\n",
        "        sum_33 += i\n",
        "print(sum_33)"
      ]
    },
    {
      "cell_type": "code",
      "execution_count": null,
      "metadata": {
        "id": "_amxlmKCyDGr",
        "outputId": "6657af3e-55ed-4bca-d113-662862d6de6a"
      },
      "outputs": [
        {
          "name": "stdout",
          "output_type": "stream",
          "text": [
            "12\n",
            "34\n"
          ]
        }
      ],
      "source": [
        "p = {4:10, 12:100, 35:3, 34:56, 56:11, 45:\"abc\"}\n",
        "for k, v in p.items():\n",
        "        if type(v) == int:\n",
        "            if (v > 45):\n",
        "                print(k)\n"
      ]
    },
    {
      "cell_type": "code",
      "execution_count": null,
      "metadata": {
        "id": "OhmLEF9qyDGr",
        "outputId": "462888be-f7d3-43ba-b632-37319476c852"
      },
      "outputs": [
        {
          "name": "stdout",
          "output_type": "stream",
          "text": [
            "[1, 4, 9, 16, 25, 36, 49, 64, 81, 100, 121, 144, 169, 196, 225, 256, 289, 324, 361, 400, 441, 484, 529, 576, 625, 676, 729, 784, 841, 900, 961, 1024, 1089, 1156, 1225, 1296, 1369, 1444, 1521, 1600, 1681, 1764, 1849, 1936, 2025, 2116, 2209, 2304, 2401, 2500, 2601, 2704, 2809, 2916, 3025, 3136, 3249, 3364, 3481, 3600, 3721, 3844, 3969, 4096, 4225, 4356, 4489, 4624, 4761, 4900, 5041, 5184, 5329, 5476, 5625, 5776, 5929, 6084, 6241, 6400, 6561, 6724, 6889, 7056, 7225, 7396, 7569, 7744, 7921, 8100, 8281, 8464, 8649, 8836, 9025, 9216, 9409, 9604, 9801, 10000]\n"
          ]
        }
      ],
      "source": [
        "h= []\n",
        "for i in range(1,101):\n",
        "    d = i * i\n",
        "    h.append(d)\n",
        "print(h)"
      ]
    },
    {
      "cell_type": "code",
      "execution_count": null,
      "metadata": {
        "id": "-BKuSiUPyDGr"
      },
      "outputs": [],
      "source": []
    },
    {
      "cell_type": "markdown",
      "metadata": {
        "id": "FTXIHG2-yDGs"
      },
      "source": [
        "Структура файла CSV (Comma-Separated Values) представляет собой текстовые файлы, в которых данные организованы в виде таблицы. Каждая строка файла соответствует одной строке таблицы, а значения в строках разделены запятыми.\n",
        "Импортировать модуль csv (встроенный модуль Python).\n",
        "Указать имя файла, который нужно открыть (или путь к нему).\n",
        "Инициализировать объект reader, который будет перебираться в цикле for. Для этого используется функция reader = csv.reader(файл).\n",
        "Данные из указанного файла выводятся построчно.\n",
        "Если CSV-файл содержит заголовки, можно использовать csv.DictReader, который возвращает каждую строку как словарь, где ключами являются заголовки столбцов. Это позволяет легко обращаться к значениям в строках по именам столбцов."
      ]
    }
  ],
  "metadata": {
    "kernelspec": {
      "display_name": "Python 3",
      "language": "python",
      "name": "python3"
    },
    "language_info": {
      "codemirror_mode": {
        "name": "ipython",
        "version": 3
      },
      "file_extension": ".py",
      "mimetype": "text/x-python",
      "name": "python",
      "nbconvert_exporter": "python",
      "pygments_lexer": "ipython3",
      "version": "3.12.1"
    },
    "colab": {
      "provenance": [],
      "include_colab_link": true
    }
  },
  "nbformat": 4,
  "nbformat_minor": 0
}