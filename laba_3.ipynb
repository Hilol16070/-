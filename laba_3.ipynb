{
  "cells": [
    {
      "cell_type": "markdown",
      "metadata": {
        "id": "view-in-github",
        "colab_type": "text"
      },
      "source": [
        "<a href=\"https://colab.research.google.com/github/Hilol16070/-/blob/main/laba_3.ipynb\" target=\"_parent\"><img src=\"https://colab.research.google.com/assets/colab-badge.svg\" alt=\"Open In Colab\"/></a>"
      ]
    },
    {
      "cell_type": "markdown",
      "metadata": {
        "id": "RR33zptwx8ct"
      },
      "source": [
        "# Практическая работа 3. Обработка данных из файла\n",
        "\n",
        "Давлатов Хилол Илхомджонович\n",
        "ПИН-б-о-22-1 09.03.03 Прикладная информатика\n",
        "\n",
        "Цель работы: научиться обрабатывать данные из текстового файла.\n",
        "Задачи лабораторной работы:\n",
        "– научиться считывать символьные строки из файла;\n",
        "– научиться преобразовывать строковые данные к прочим типа данных;\n",
        "– научиться решать прикладные задачи с использованием простых скриптов.\n"
      ]
    },
    {
      "cell_type": "code",
      "execution_count": null,
      "metadata": {
        "id": "fSJB542ox8cw",
        "outputId": "facbf308-9e5d-4693-d217-0bb4682f1fb8"
      },
      "outputs": [
        {
          "name": "stdout",
          "output_type": "stream",
          "text": [
            "<Response [200]>\n"
          ]
        }
      ],
      "source": [
        "from requests import get\n",
        "response = get(\"https://raw.githubusercontent.com/enikolaev/IT-and-Programming/main/data/data_v1.txt\")\n",
        "print(response)"
      ]
    },
    {
      "cell_type": "code",
      "execution_count": null,
      "metadata": {
        "id": "thKuolOIx8cx"
      },
      "outputs": [],
      "source": [
        "with open(\"data_v1.txt\", \"wb\") as file:\n",
        "    file.write(response.content)"
      ]
    },
    {
      "cell_type": "markdown",
      "metadata": {
        "id": "qp0FJRT-x8cy"
      },
      "source": [
        "![image.png](attachment:image.png)"
      ]
    },
    {
      "cell_type": "code",
      "execution_count": null,
      "metadata": {
        "id": "qYWRIs6Ex8cy",
        "outputId": "1978ea8d-acbb-4779-a948-d63764535293"
      },
      "outputs": [
        {
          "name": "stdout",
          "output_type": "stream",
          "text": [
            "100000\n"
          ]
        }
      ],
      "source": [
        "f = open(\"data_v1.txt\")\n",
        "s = f.read().strip()\n",
        "print(len(s))\n"
      ]
    },
    {
      "cell_type": "code",
      "execution_count": null,
      "metadata": {
        "id": "geoQQi8gx8cz",
        "outputId": "de2b2713-81f0-42ca-fad0-1678fb70621c"
      },
      "outputs": [
        {
          "name": "stdout",
          "output_type": "stream",
          "text": [
            "4                 ['6', '9', '9', '9']\n"
          ]
        }
      ],
      "source": [
        "H = []\n",
        "maxstr = []\n",
        "for i in s:\n",
        "    #if ((i % 4) != 0) and (not s.upper()):\n",
        "\n",
        "    if i.isdigit():\n",
        "        di = int(i)\n",
        "        if ((di % 4) != 0):\n",
        "            H.append(i)\n",
        "            if len(H) > len(maxstr):\n",
        "                maxstr = H\n",
        "        else:\n",
        "            H = []\n",
        "    else:\n",
        "        if not i.upper():\n",
        "            H.append(i)\n",
        "            if len(H) > len(maxstr):\n",
        "                maxstr = H\n",
        "        else:\n",
        "            H = []\n",
        "\n",
        "\n",
        "print(len(maxstr), \"               \", maxstr)\n",
        "\n"
      ]
    },
    {
      "cell_type": "markdown",
      "metadata": {
        "id": "m2DFOzjXx8cz"
      },
      "source": [
        "![image.png](attachment:image.png)"
      ]
    },
    {
      "cell_type": "markdown",
      "metadata": {
        "id": "_bMr6lgDx8c0"
      },
      "source": [
        "1. Строки, подобно списка, являются коллекциями. Только в качестве элементов последовательности выступают символы. Для строк также используются функции нахождения длины len(), операция индексации []\n",
        "\n",
        "2. replace(). Заменяет часть строки другим элементом.\n",
        "strip(). Удаляет одинаковые символы по краям строки.\n",
        "find(). Выполняет поиск указанного в строке значения и возвращает наименьший индекс.\n",
        "count(). 1 Подсчитывает количество вхождений определённого символа или подстроки.\n",
        "split(). Разбивает строку по разделителю и возвращает список, содержащий подстроки.\n",
        "join(). 25 Объединяет строки в одну, вставляя между ними определённый разделитель.\n",
        "\n",
        "3. Словарь (dictionary или dict) — это неупорядоченная (в отличие от списка) структура данных, которая имеет вид «ключ — значение».\n",
        "\n",
        "4. clear() — удаляет все элементы из словаря;\n",
        "copy() — создаёт копию словаря;\n",
        "get() — возвращает значение из словаря по ключу или None, если такого ключа не существует;\n",
        "keys() — возвращает все ключи из словаря, но без значений;\n",
        "values() — возвращает все значения из словаря, но без ключей;\n",
        "items() — возвращает все пары «ключ — значение»;\n",
        "popitem() — удаляет последнюю добавленную пару «ключ — значение»;\n",
        "setdefault() — возвращает значение указанного ключа. Если ключа не существует, создаёт его и добавляет в словарь со значением None или тем, что указано в качестве второго аргумента;\n",
        "fromkeys() — позволяет создавать словари с ключами, полученными из итерируемого объекта.\n",
        "\n",
        "5. Для считывания данных из текстового файла нужно открыть файл с помощью функции open() и указать путь  к файлу в качестве аргумента, далее с помощью функции read() считать данные из файла и сохранить их как строку в переменную\n",
        "\n",
        "6. Метод readline(). Считывает одну строку из файла (до символа конца строки ‘\\n’). Если считывание не было успешным (достигнут конец файла), то возвращается пустая строка.\n",
        "Метод readlines(). Считывает все строки из файла и возвращает список из всех считанных строк (одна строка — один элемент списка). При этом символы ‘\\n’ остаются в концах строк.\n",
        "Метод read(). Считывает всё содержимое из файла и возвращает строку, которая может содержать символы ‘\\n’. Если методу read передать целочисленный параметр, то будет считано не более заданного количества символов. Например, считывать файл побайтово можно при помощи метода read(1)\n",
        "7. Можно считывать посимвольно внутри цикла, с помощью функции open()"
      ]
    }
  ],
  "metadata": {
    "kernelspec": {
      "display_name": "Python 3",
      "language": "python",
      "name": "python3"
    },
    "language_info": {
      "codemirror_mode": {
        "name": "ipython",
        "version": 3
      },
      "file_extension": ".py",
      "mimetype": "text/x-python",
      "name": "python",
      "nbconvert_exporter": "python",
      "pygments_lexer": "ipython3",
      "version": "3.12.1"
    },
    "colab": {
      "provenance": [],
      "include_colab_link": true
    }
  },
  "nbformat": 4,
  "nbformat_minor": 0
}