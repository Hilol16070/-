{
  "cells": [
    {
      "cell_type": "markdown",
      "metadata": {
        "id": "view-in-github",
        "colab_type": "text"
      },
      "source": [
        "<a href=\"https://colab.research.google.com/github/Hilol16070/-/blob/main/laba_1.ipynb\" target=\"_parent\"><img src=\"https://colab.research.google.com/assets/colab-badge.svg\" alt=\"Open In Colab\"/></a>"
      ]
    },
    {
      "cell_type": "markdown",
      "metadata": {
        "id": "htDZDNKrxQXQ"
      },
      "source": [
        "# Практическая работа 1. Простейший скрипт Python\n",
        "\n",
        "\n",
        "Давлатов Хилол Илхомджонович\n",
        "ПИН-б-о-22-1 09.03.03 Прикладная информатика\n",
        "Python, SQL, C#\n"
      ]
    },
    {
      "cell_type": "markdown",
      "metadata": {
        "id": "214qK91ExQXS"
      },
      "source": [
        "Вариант 13\n",
        "![image.png](attachment:image.png)"
      ]
    },
    {
      "cell_type": "markdown",
      "metadata": {
        "id": "UE0I96uuxQXT"
      },
      "source": [
        "Проанализируем выражение и определим переменные, которые потребуются для выполнения задания. Независимые переменные:  f, y . Переменная, которая должна быть вычислена на основе независимых:  Zze ."
      ]
    },
    {
      "cell_type": "code",
      "execution_count": null,
      "metadata": {
        "id": "L2XLzroAxQXU",
        "outputId": "1a69460b-998b-404f-a6c5-1aeaae59468e"
      },
      "outputs": [
        {
          "name": "stdout",
          "output_type": "stream",
          "text": [
            "f =  10 , type(f) =  <class 'int'>\n",
            "y =  30.67 , type(y) =  <class 'float'>\n"
          ]
        }
      ],
      "source": [
        "f=10\n",
        "y=30.67\n",
        "print(\"f = \", f, \", type(f) = \", type(f))\n",
        "print(\"y = \", y, \", type(y) = \", type(y))\n"
      ]
    },
    {
      "cell_type": "markdown",
      "metadata": {
        "id": "Ijt66dRcxQXW"
      },
      "source": [
        "Вычисление выражения"
      ]
    },
    {
      "cell_type": "code",
      "execution_count": null,
      "metadata": {
        "id": "G2yOgaEdxQXW",
        "outputId": "0a745f4b-7223-46a9-f3e6-da43d8401e3a"
      },
      "outputs": [
        {
          "name": "stdout",
          "output_type": "stream",
          "text": [
            "Zze= 310.36750000000006\n",
            "Type of Zze:  <class 'float'>\n"
          ]
        }
      ],
      "source": [
        "Zze= (35/f) + (y*f) - (f-((f+y)/4))\n",
        "print('Zze=',Zze)\n",
        "print('Type of Zze: ', type(Zze))"
      ]
    },
    {
      "cell_type": "markdown",
      "metadata": {
        "id": "6q2hhZGjxQXX"
      },
      "source": [
        "![image.png](attachment:image.png)"
      ]
    },
    {
      "cell_type": "markdown",
      "metadata": {
        "id": "Zsvna5jZxQXX"
      },
      "source": [
        "1. Интерпретируемые языки выполняются построчно интерпретатором, тогда как компилируемые языки сначала компилируются в машинный код, а затем выполняются.\n",
        "2. C, С++, Java, Swift, Go.\n",
        "3. PHP, JavaScript, Python, Perl.\n",
        "4. Переменные объявляются в процессе присваивания им значений\n",
        "5. С помощью функции type()\n",
        "6. Для вывода на экран информации\n",
        "7. Функция abs(), сторонние библиотеки подключать не нужно\n",
        "8. int, create-var, 4perem, System.Double\n",
        "9. int, list, set, tuple, dict, str"
      ]
    }
  ],
  "metadata": {
    "kernelspec": {
      "display_name": "Python 3",
      "language": "python",
      "name": "python3"
    },
    "language_info": {
      "codemirror_mode": {
        "name": "ipython",
        "version": 3
      },
      "file_extension": ".py",
      "mimetype": "text/x-python",
      "name": "python",
      "nbconvert_exporter": "python",
      "pygments_lexer": "ipython3",
      "version": "3.12.1"
    },
    "colab": {
      "provenance": [],
      "include_colab_link": true
    }
  },
  "nbformat": 4,
  "nbformat_minor": 0
}